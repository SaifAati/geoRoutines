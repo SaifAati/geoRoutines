{
 "cells": [
  {
   "cell_type": "code",
   "execution_count": 11,
   "metadata": {
    "collapsed": true,
    "pycharm": {
     "name": "#%%\n"
    }
   },
   "outputs": [],
   "source": [
    "import os"
   ]
  },
  {
   "cell_type": "code",
   "execution_count": 12,
   "outputs": [
    {
     "name": "stdout",
     "output_type": "stream",
     "text": [
      "The list of  *.tif  files are: ['/home/cosicorr/0-WorkSpace/3-PycharmProjects/geoRoutines/geoRoutines/Examples/Data/20180805_051556_1002_3B_AnalyticMS_DN.tif', '/home/cosicorr/0-WorkSpace/3-PycharmProjects/geoRoutines/geoRoutines/Examples/Data/20180806_051125_1020_3B_AnalyticMS_DN.tif']  Ntot= 2\n"
     ]
    }
   ],
   "source": [
    "pwd = \"/home/cosicorr/0-WorkSpace/3-PycharmProjects/geoRoutines/geoRoutines/Examples\"\n",
    "dataFolder = os.path.join(pwd,\"Data\")\n",
    "# print(dataFolder)\n",
    "## Test FilesCommandRoutine\n",
    "import geoRoutines.FilesCommandRoutine as fileRT\n",
    "imgs=fileRT.GetFilesBasedOnExtension(path= dataFolder,filter=\"*.tif\",disp=True)"
   ],
   "metadata": {
    "collapsed": false,
    "pycharm": {
     "name": "#%%\n"
    }
   }
  },
  {
   "cell_type": "code",
   "execution_count": 13,
   "outputs": [
    {
     "name": "stdout",
     "output_type": "stream",
     "text": [
      "\n",
      "        # Raster Information :\n",
      "            Error = False\n",
      "            Raster = <osgeo.gdal.Dataset; proxy of <Swig Object of type 'GDALDatasetShadow *' at 0x7f5f333eeed0> >\n",
      "            Number  of Bands = 4\n",
      "            DataType = 2\n",
      "        # Dimensions :\n",
      "            Width = 8846\n",
      "            Height = 4470\n",
      "            Resolution = 3.0\n",
      "        # Map Information :\n",
      "            MapInfo = True\n",
      "            Geo Transformation  = (443625.0, 3.0, 0.0, 4029528.0, 0.0, -3.0)\n",
      "            EPSG = 32643\n",
      "            Projection = PROJCS[\"WGS 84 / UTM zone 43N\",\n",
      "    GEOGCS[\"WGS 84\",\n",
      "        DATUM[\"WGS_1984\",\n",
      "            SPHEROID[\"WGS 84\",6378137,298.257223563,\n",
      "                AUTHORITY[\"EPSG\",\"7030\"]],\n",
      "            AUTHORITY[\"EPSG\",\"6326\"]],\n",
      "        PRIMEM[\"Greenwich\",0,\n",
      "            AUTHORITY[\"EPSG\",\"8901\"]],\n",
      "        UNIT[\"degree\",0.0174532925199433,\n",
      "            AUTHORITY[\"EPSG\",\"9122\"]],\n",
      "        AUTHORITY[\"EPSG\",\"4326\"]],\n",
      "    PROJECTION[\"Transverse_Mercator\"],\n",
      "    PARAMETER[\"latitude_of_origin\",0],\n",
      "    PARAMETER[\"central_meridian\",75],\n",
      "    PARAMETER[\"scale_factor\",0.9996],\n",
      "    PARAMETER[\"false_easting\",500000],\n",
      "    PARAMETER[\"false_northing\",0],\n",
      "    UNIT[\"metre\",1,\n",
      "        AUTHORITY[\"EPSG\",\"9001\"]],\n",
      "    AXIS[\"Easting\",EAST],\n",
      "    AXIS[\"Northing\",NORTH],\n",
      "    AUTHORITY[\"EPSG\",\"32643\"]]\n",
      "            BandInfo =['blue', 'green', 'red', 'nir']\n",
      "            Metadata ={'AREA_OR_POINT': 'Area', 'TIFFTAG_DATETIME': '2018:08:05 05:15:56'}\n",
      "        # Raster location:\n",
      "            Raster Name = 20180805_051556_1002_3B_AnalyticMS_DN.tif\n",
      "            Raster path = /home/cosicorr/0-WorkSpace/3-PycharmProjects/geoRoutines/geoRoutines/Examples/Data/20180805_051556_1002_3B_AnalyticMS_DN.tif\n",
      "\n",
      "        # Raster Information :\n",
      "            Error = False\n",
      "            Raster = <osgeo.gdal.Dataset; proxy of <Swig Object of type 'GDALDatasetShadow *' at 0x7f5f337efc30> >\n",
      "            Number  of Bands = 4\n",
      "            DataType = 2\n",
      "        # Dimensions :\n",
      "            Width = 8846\n",
      "            Height = 4470\n",
      "            Resolution = 3.0\n",
      "        # Map Information :\n",
      "            MapInfo = True\n",
      "            Geo Transformation  = (443625.0, 3.0, 0.0, 4029528.0, 0.0, -3.0)\n",
      "            EPSG = 32643\n",
      "            Projection = PROJCS[\"WGS 84 / UTM zone 43N\",\n",
      "    GEOGCS[\"WGS 84\",\n",
      "        DATUM[\"WGS_1984\",\n",
      "            SPHEROID[\"WGS 84\",6378137,298.257223563,\n",
      "                AUTHORITY[\"EPSG\",\"7030\"]],\n",
      "            AUTHORITY[\"EPSG\",\"6326\"]],\n",
      "        PRIMEM[\"Greenwich\",0,\n",
      "            AUTHORITY[\"EPSG\",\"8901\"]],\n",
      "        UNIT[\"degree\",0.0174532925199433,\n",
      "            AUTHORITY[\"EPSG\",\"9122\"]],\n",
      "        AUTHORITY[\"EPSG\",\"4326\"]],\n",
      "    PROJECTION[\"Transverse_Mercator\"],\n",
      "    PARAMETER[\"latitude_of_origin\",0],\n",
      "    PARAMETER[\"central_meridian\",75],\n",
      "    PARAMETER[\"scale_factor\",0.9996],\n",
      "    PARAMETER[\"false_easting\",500000],\n",
      "    PARAMETER[\"false_northing\",0],\n",
      "    UNIT[\"metre\",1,\n",
      "        AUTHORITY[\"EPSG\",\"9001\"]],\n",
      "    AXIS[\"Easting\",EAST],\n",
      "    AXIS[\"Northing\",NORTH],\n",
      "    AUTHORITY[\"EPSG\",\"32643\"]]\n",
      "            BandInfo =['blue', 'green', 'red', 'nir']\n",
      "            Metadata ={'AREA_OR_POINT': 'Area', 'TIFFTAG_DATETIME': '2018:08:05 05:15:56'}\n",
      "        # Raster location:\n",
      "            Raster Name = 20180805_051556_1002_3B_AnalyticMS_DN.tif\n",
      "            Raster path = /home/cosicorr/0-WorkSpace/3-PycharmProjects/geoRoutines/geoRoutines/Examples/Data/20180805_051556_1002_3B_AnalyticMS_DN.tif\n"
     ]
    }
   ],
   "source": [
    "## Read Raster information\n",
    "img1 = imgs[0]\n",
    "img2= imgs[1]\n",
    "import geoRoutines.georoutines as geoRT\n",
    "\n",
    "img1Info = geoRT.RasterInfo(img1,True)\n",
    "img2Info = geoRT.RasterInfo(img1,True)"
   ],
   "metadata": {
    "collapsed": false,
    "pycharm": {
     "name": "#%%\n"
    }
   }
  },
  {
   "cell_type": "code",
   "execution_count": 14,
   "outputs": [
    {
     "data": {
      "text/plain": "(4470, 8846)"
     },
     "execution_count": 14,
     "metadata": {},
     "output_type": "execute_result"
    }
   ],
   "source": [
    "img1Array = img1Info.ImageAsArray(bandNumber=2)\n",
    "img1Array.shape"
   ],
   "metadata": {
    "collapsed": false,
    "pycharm": {
     "name": "#%%\n"
    }
   }
  },
  {
   "cell_type": "code",
   "execution_count": 15,
   "outputs": [
    {
     "name": "stdout",
     "output_type": "stream",
     "text": [
      "Successfully created the directory <</home/cosicorr/0-WorkSpace/3-PycharmProjects/geoRoutines/geoRoutines/Examples/Data/Temp_SA_FP>> \n",
      "------- /home/cosicorr/0-WorkSpace/3-PycharmProjects/geoRoutines/geoRoutines/Examples/Data/20180805_051556_1002_3B_AnalyticMS_DN.tif\n",
      "--- Footprint will be in WGS 84 projection system --- \n",
      "------- /home/cosicorr/0-WorkSpace/3-PycharmProjects/geoRoutines/geoRoutines/Examples/Data/20180806_051125_1020_3B_AnalyticMS_DN.tif\n",
      "--- Footprint will be in WGS 84 projection system --- \n"
     ]
    },
    {
     "data": {
      "text/plain": "<Figure size 432x288 with 1 Axes>",
      "image/png": "[encoded data removed]"
     },
     "metadata": {
      "needs_background": "light"
     },
     "output_type": "display_data"
    },
    {
     "name": "stdout",
     "output_type": "stream",
     "text": [
      "\n",
      " Final intersection: 0    POLYGON ((74.66721 36.34440, 74.48041 36.34440...\n",
      "Name: geometry, dtype: geometry\n"
     ]
    },
    {
     "data": {
      "text/plain": "((74.667215, 36.344401),\n (74.480412, 36.344401),\n (74.480412, 36.410465),\n (74.667215, 36.410465),\n (74.667215, 36.344401))"
     },
     "execution_count": 15,
     "metadata": {},
     "output_type": "execute_result"
    }
   ],
   "source": [
    "geoRT.GetOverlapAreaOfRasters(imgs)"
   ],
   "metadata": {
    "collapsed": false,
    "pycharm": {
     "name": "#%%\n"
    }
   }
  },
  {
   "cell_type": "code",
   "execution_count": 15,
   "outputs": [],
   "source": [],
   "metadata": {
    "collapsed": false,
    "pycharm": {
     "name": "#%%\n"
    }
   }
  }
 ],
 "metadata": {
  "kernelspec": {
   "display_name": "geoCosiCorr3D",
   "language": "python",
   "name": "geocosicorr3d"
  },
  "language_info": {
   "codemirror_mode": {
    "name": "ipython",
    "version": 3
   },
   "file_extension": ".py",
   "mimetype": "text/x-python",
   "name": "python",
   "nbconvert_exporter": "python",
   "pygments_lexer": "ipython3",
   "version": "3.6.12"
  }
 },
 "nbformat": 4,
 "nbformat_minor": 1
}